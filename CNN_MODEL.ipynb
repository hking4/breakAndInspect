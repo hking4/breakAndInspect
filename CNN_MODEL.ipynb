{
 "cells": [
  {
   "cell_type": "code",
   "execution_count": 4,
   "metadata": {},
   "outputs": [],
   "source": [
    "##Reusable model skeleton to be referenced in all scripts needing the trained CNN model\n",
    "\n",
    "import tflearn\n",
    "from tflearn.layers.conv import conv_2d, max_pool_2d\n",
    "from tflearn.layers.core import input_data, dropout, fully_connected\n",
    "from tflearn.layers.estimator import regression\n",
    "import tensorflow as tf\n",
    "\n",
    "def getTfModel():\n",
    "    with tf.device('/gpu:0'):\n",
    "        sess = tf.Session(config=tf.ConfigProto(log_device_placement=True))\n",
    "        #sess = tf.Session()\n",
    "        tf.reset_default_graph()\n",
    "\n",
    "        convnet = input_data(shape=[None, IMG_SIZE, IMG_SIZE, 1], name='input')\n",
    "        convnet = conv_2d(convnet, 32, 2, activation='relu')\n",
    "        convnet = max_pool_2d(convnet, 2)\n",
    "        convnet = conv_2d(convnet, 32, 2, activation='relu')\n",
    "        convnet = max_pool_2d(convnet, 2)\n",
    "        convnet = conv_2d(convnet, 32, 2, activation='relu')\n",
    "        convnet = max_pool_2d(convnet, 2)\n",
    "        convnet = conv_2d(convnet, 32, 2, activation='relu')\n",
    "        convnet = max_pool_2d(convnet, 2)\n",
    "        convnet = conv_2d(convnet, 32, 2, activation='relu')\n",
    "        convnet = max_pool_2d(convnet, 2)\n",
    "        convnet = conv_2d(convnet, 32, 2, activation='relu')\n",
    "        convnet = max_pool_2d(convnet, 2)\n",
    "        convnet = fully_connected(convnet, 1024, activation='relu')\n",
    "        convnet = dropout(convnet, 0.8)\n",
    "        convnet = fully_connected(convnet, 2, activation='softmax')\n",
    "        convnet = regression(convnet, optimizer='adam', learning_rate=LR, loss='categorical_crossentropy', name='targets')\n",
    "        model = tflearn.DNN(convnet, tensorboard_dir='log')\n",
    "        return model"
   ]
  },
  {
   "cell_type": "code",
   "execution_count": null,
   "metadata": {},
   "outputs": [],
   "source": []
  }
 ],
 "metadata": {
  "kernelspec": {
   "display_name": "Python 3",
   "language": "python",
   "name": "python3"
  },
  "language_info": {
   "codemirror_mode": {
    "name": "ipython",
    "version": 3
   },
   "file_extension": ".py",
   "mimetype": "text/x-python",
   "name": "python",
   "nbconvert_exporter": "python",
   "pygments_lexer": "ipython3",
   "version": "3.6.8"
  }
 },
 "nbformat": 4,
 "nbformat_minor": 2
}
