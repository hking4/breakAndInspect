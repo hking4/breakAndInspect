{
 "cells": [
  {
   "cell_type": "code",
   "execution_count": null,
   "metadata": {},
   "outputs": [],
   "source": [
    "##create key\n",
    "from cryptography.fernet import Fernet\n",
    "key = Fernet.generate_key()\n",
    "print(key)"
   ]
  },
  {
   "cell_type": "code",
   "execution_count": null,
   "metadata": {},
   "outputs": [],
   "source": [
    "#create cyphertext\n",
    "from cryptography.fernet import Fernet\n",
    "key = b'_xrTHhrdVCx825bWfeAWfjDLzhW7z1gox8auPI6SPvo='\n",
    "cipher_suite = Fernet(key)\n",
    "ciphered_text = cipher_suite.encrypt(b\"Wk4CcxeIyW\")   #required to be bytes\n",
    "print(ciphered_text) "
   ]
  },
  {
   "cell_type": "code",
   "execution_count": null,
   "metadata": {},
   "outputs": [],
   "source": [
    "#return encrypted password\n",
    "from cryptography.fernet import Fernet\n",
    "key = b'_xrTHhrdVCx825bWfeAWfjDLzhW7z1gox8auPI6SPvo='\n",
    "cipher_suite = Fernet(key)\n",
    "ciphered_text = b'gAAAAABczxpRpYszE-TJGfW_PJJOqAf2_0Oefjnk4yaOMxBOna5bQYjbr9cHqH53ilNR2dCgVUVmOtN9uk4LxE6ZzvsQgfbjNA=='\n",
    "unciphered_text = (cipher_suite.decrypt(ciphered_text))\n",
    "print(unciphered_text)"
   ]
  },
  {
   "cell_type": "code",
   "execution_count": null,
   "metadata": {},
   "outputs": [],
   "source": [
    "#write byte literal to binary file\n",
    "from cryptography.fernet import Fernet\n",
    "key = b'_xrTHhrdVCx825bWfeAWfjDLzhW7z1gox8auPI6SPvo='\n",
    "cipher_suite = Fernet(key)\n",
    "ciphered_text = cipher_suite.encrypt(b\"Wk4CcxeIyW\")\n",
    "with open('.\\mySQLPW.bin', 'wb') as file_object:  file_object.write(ciphered_text)"
   ]
  },
  {
   "cell_type": "code",
   "execution_count": null,
   "metadata": {},
   "outputs": [],
   "source": [
    "#retrieve\n",
    "with open('.\\mySQLPW.bin', 'rb') as file_object:\n",
    "    for line in file_object:\n",
    "        encryptedpwd = line\n",
    "print(encryptedpwd)"
   ]
  },
  {
   "cell_type": "code",
   "execution_count": 1,
   "metadata": {},
   "outputs": [
    {
     "name": "stdout",
     "output_type": "stream",
     "text": [
      "Wk4CcxeIyW\n"
     ]
    }
   ],
   "source": [
    "#decrypt\n",
    "from cryptography.fernet import Fernet\n",
    "key = b'_xrTHhrdVCx825bWfeAWfjDLzhW7z1gox8auPI6SPvo='\n",
    "cipher_suite = Fernet(key)\n",
    "with open('.\\mySQLPW.bin', 'rb') as file_object:\n",
    "    for line in file_object:\n",
    "        encryptedpwd = line\n",
    "uncipher_text = (cipher_suite.decrypt(encryptedpwd))\n",
    "plain_text_encryptedpassword = bytes(uncipher_text).decode(\"utf-8\") #convert to string\n",
    "print(plain_text_encryptedpassword)"
   ]
  },
  {
   "cell_type": "code",
   "execution_count": null,
   "metadata": {},
   "outputs": [],
   "source": []
  }
 ],
 "metadata": {
  "kernelspec": {
   "display_name": "Python 3",
   "language": "python",
   "name": "python3"
  },
  "language_info": {
   "codemirror_mode": {
    "name": "ipython",
    "version": 3
   },
   "file_extension": ".py",
   "mimetype": "text/x-python",
   "name": "python",
   "nbconvert_exporter": "python",
   "pygments_lexer": "ipython3",
   "version": "3.6.8"
  }
 },
 "nbformat": 4,
 "nbformat_minor": 2
}
