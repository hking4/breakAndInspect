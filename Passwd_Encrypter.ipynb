{
 "cells": [
  {
   "cell_type": "code",
   "execution_count": null,
   "metadata": {},
   "outputs": [],
   "source": [
    "##create key\n",
    "from cryptography.fernet import Fernet\n",
    "key = Fernet.generate_key()\n",
    "print(key)"
   ]
  },
  {
   "cell_type": "code",
   "execution_count": 1,
   "metadata": {},
   "outputs": [
    {
     "name": "stdout",
     "output_type": "stream",
     "text": [
      "b'gAAAAABc0Gll00CMbM3BXsw3ocQ38tPsgIMT8fJX7ubQnNoRyQdeDBB8_j1m0HNTfw3sHlO6oCC5BxdNBxKSUEirzaAYxrRYEg=='\n"
     ]
    }
   ],
   "source": [
    "#create cyphertext\n",
    "from cryptography.fernet import Fernet\n",
    "key = b'_xrTHhrdVCx825bWfeAWfjDLzhW7z1gox8auPI6SPvo='\n",
    "cipher_suite = Fernet(key)\n",
    "ciphered_text = cipher_suite.encrypt(b\"BreakInspect1+\")   #required to be bytes\n",
    "print(ciphered_text) "
   ]
  },
  {
   "cell_type": "code",
   "execution_count": 2,
   "metadata": {},
   "outputs": [
    {
     "name": "stdout",
     "output_type": "stream",
     "text": [
      "b'BreakInspect1+'\n"
     ]
    }
   ],
   "source": [
    "#return encrypted password\n",
    "from cryptography.fernet import Fernet\n",
    "key = b'_xrTHhrdVCx825bWfeAWfjDLzhW7z1gox8auPI6SPvo='\n",
    "cipher_suite = Fernet(key)\n",
    "ciphered_text = b'gAAAAABc0Gll00CMbM3BXsw3ocQ38tPsgIMT8fJX7ubQnNoRyQdeDBB8_j1m0HNTfw3sHlO6oCC5BxdNBxKSUEirzaAYxrRYEg=='\n",
    "unciphered_text = (cipher_suite.decrypt(ciphered_text))\n",
    "print(unciphered_text)"
   ]
  },
  {
   "cell_type": "code",
   "execution_count": 3,
   "metadata": {},
   "outputs": [],
   "source": [
    "#write byte literal to binary file\n",
    "from cryptography.fernet import Fernet\n",
    "key = b'_xrTHhrdVCx825bWfeAWfjDLzhW7z1gox8auPI6SPvo='\n",
    "cipher_suite = Fernet(key)\n",
    "ciphered_text = cipher_suite.encrypt(b\"BreakInspect1+\")\n",
    "with open('.\\emailPW.bin', 'wb') as file_object:  file_object.write(ciphered_text)"
   ]
  },
  {
   "cell_type": "code",
   "execution_count": 4,
   "metadata": {},
   "outputs": [
    {
     "name": "stdout",
     "output_type": "stream",
     "text": [
      "b'gAAAAABc0GmRkyLJxbBRLyx5pNhaOWFZJ4JMlvLXVdjTSA_7jZUhcXjQobbKerIsn3uVE6Q9kTO1CQ7QaH0T6O91aXc8KcMvRw=='\n"
     ]
    }
   ],
   "source": [
    "#retrieve\n",
    "with open('.\\emailPW.bin', 'rb') as file_object:\n",
    "    for line in file_object:\n",
    "        encryptedpwd = line\n",
    "print(encryptedpwd)"
   ]
  },
  {
   "cell_type": "code",
   "execution_count": 6,
   "metadata": {},
   "outputs": [
    {
     "name": "stdout",
     "output_type": "stream",
     "text": [
      "BreakInspect1+\n"
     ]
    }
   ],
   "source": [
    "#decrypt\n",
    "from cryptography.fernet import Fernet\n",
    "key = b'_xrTHhrdVCx825bWfeAWfjDLzhW7z1gox8auPI6SPvo='\n",
    "cipher_suite = Fernet(key)\n",
    "with open('.\\emailPW.bin', 'rb') as file_object:\n",
    "    for line in file_object:\n",
    "        encryptedpwd = line\n",
    "uncipher_text = (cipher_suite.decrypt(encryptedpwd))\n",
    "plain_text_encryptedpassword = bytes(uncipher_text).decode(\"utf-8\") #convert to string\n",
    "print(plain_text_encryptedpassword)"
   ]
  },
  {
   "cell_type": "code",
   "execution_count": null,
   "metadata": {},
   "outputs": [],
   "source": []
  }
 ],
 "metadata": {
  "kernelspec": {
   "display_name": "Python 3",
   "language": "python",
   "name": "python3"
  },
  "language_info": {
   "codemirror_mode": {
    "name": "ipython",
    "version": 3
   },
   "file_extension": ".py",
   "mimetype": "text/x-python",
   "name": "python",
   "nbconvert_exporter": "python",
   "pygments_lexer": "ipython3",
   "version": "3.6.8"
  }
 },
 "nbformat": 4,
 "nbformat_minor": 2
}
