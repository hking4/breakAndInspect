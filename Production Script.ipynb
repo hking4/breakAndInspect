{
 "cells": [
  {
   "cell_type": "code",
   "execution_count": 10,
   "metadata": {},
   "outputs": [],
   "source": [
    "import cv2\n",
    "import warnings\n",
    "import DatabaseConnection as dbc\n",
    "import MySQLdb\n",
    "import datetime\n",
    "import getpass\n",
    "import numpy as np\n",
    "import os\n",
    "import CNN_MODEL\n",
    "from random import shuffle\n",
    "from tqdm import tqdm\n",
    "\n",
    "def fxn():\n",
    "    warnings.warn(\"deprecated\", DeprecationWarning)\n",
    "    \n",
    "with warnings.catch_warnings():\n",
    "    warnings.simplefilter(\"ignore\")\n",
    "    fxn()\n",
    "\n",
    "#DB Connection used for logging screenshots\n",
    "db = dbc.connect()\n",
    "cursor = db.cursor()\n",
    "\n",
    "d= datetime.datetime.today()\n",
    "IMAGE_DIR = '.\\dataset\\single_image_test'\n",
    "MODEL_NAME = 'socialmedia-4_27-0.001-6conv-basic-video.model'"
   ]
  },
  {
   "cell_type": "code",
   "execution_count": 9,
   "metadata": {},
   "outputs": [],
   "source": [
    "model = CNN_MODEL.getTfModel()"
   ]
  },
  {
   "cell_type": "code",
   "execution_count": 7,
   "metadata": {},
   "outputs": [
    {
     "name": "stdout",
     "output_type": "stream",
     "text": [
      "WARNING:tensorflow:From c:\\users\\tyler\\appdata\\local\\programs\\python\\python36\\lib\\site-packages\\tensorflow\\python\\training\\saver.py:1266: checkpoint_exists (from tensorflow.python.training.checkpoint_management) is deprecated and will be removed in a future version.\n",
      "Instructions for updating:\n",
      "Use standard file APIs to check for files with this prefix.\n",
      "INFO:tensorflow:Restoring parameters from c:\\COSC_490_Project_TestEnv\\socialmedia-4_27-0.001-6conv-basic-video.model\n",
      "model loaded!\n"
     ]
    }
   ],
   "source": [
    "if os.path.exists('{}.meta'.format(MODEL_NAME)):\n",
    "    model.load(MODEL_NAME)\n",
    "    print('model loaded!')"
   ]
  },
  {
   "cell_type": "code",
   "execution_count": null,
   "metadata": {},
   "outputs": [],
   "source": [
    "def process_test_data():\n",
    "    testing_data = []\n",
    "    for img in tqdm(os.listdir(IMAGE_DIR)):\n",
    "        path = os.path.join(IMAGE_DIR, img)\n",
    "        img_num = img.split('.')[0]\n",
    "        img = cv2.resize(cv2.imread(path,cv2.IMREAD_GRAYSCALE), (CNN_MODEL.getImgSize(),CNN_MODEL.getImgSize()))\n",
    "        testing_data.append([np.array(img), img_num])\n",
    "    shuffle(testing_data)\n",
    "    np.save('single_test_data.npy', testing_data)\n",
    "    return testing_data"
   ]
  },
  {
   "cell_type": "code",
   "execution_count": null,
   "metadata": {},
   "outputs": [],
   "source": [
    "test_data = process_test_data()"
   ]
  },
  {
   "cell_type": "code",
   "execution_count": null,
   "metadata": {},
   "outputs": [],
   "source": [
    "with open('log-{}.csv'.format(d.strftime('%d_%m_%Y')), 'w') as f:\n",
    "    f.write('')"
   ]
  },
  {
   "cell_type": "code",
   "execution_count": null,
   "metadata": {},
   "outputs": [],
   "source": [
    "with open('log-{}.csv'.format(d.strftime('%d_%m_%Y')), 'a') as f:\n",
    "    for data in tqdm(test_data):\n",
    "        img_num = data[1] #filename\n",
    "        img_data = data[0]\n",
    "\n",
    "        insertquery = 'INSERT INTO SCREENSHOTS(SS_USER, SCREENSHOT_PATH, image_name) VALUES (%s, %s, %s)' #USER IS terminal:windows user\n",
    "        val = (os.environ['COMPUTERNAME'] + ':' + getpass.getuser(),'.\\\\dataset\\\\single_image_test\\\\' + img_num, img_num)\n",
    "        cursor.execute(insertquery, val)\n",
    "        db.commit()\n",
    "        \n",
    "        orig = img_data \n",
    "        data = img_data.reshape(CNN_MODEL.getImgSize(),CNN_MODEL.getImgSize(),1)\n",
    "        model_out = model.predict([data])[0]\n",
    "        \n",
    "        f.write('{},{}\\n'.format(img_num, model_out[1]))\n",
    "        \n",
    "        ## File prints chance of image being an allowed website and not social media\n",
    "        ## Any label <.5 is ok, anything >= .51 is considered social media\n",
    "        ## I.E. any images from testing data with ID > 177 should have a very low label"
   ]
  },
  {
   "cell_type": "code",
   "execution_count": null,
   "metadata": {},
   "outputs": [],
   "source": []
  }
 ],
 "metadata": {
  "kernelspec": {
   "display_name": "Python 3",
   "language": "python",
   "name": "python3"
  },
  "language_info": {
   "codemirror_mode": {
    "name": "ipython",
    "version": 3
   },
   "file_extension": ".py",
   "mimetype": "text/x-python",
   "name": "python",
   "nbconvert_exporter": "python",
   "pygments_lexer": "ipython3",
   "version": "3.6.8"
  }
 },
 "nbformat": 4,
 "nbformat_minor": 2
}
