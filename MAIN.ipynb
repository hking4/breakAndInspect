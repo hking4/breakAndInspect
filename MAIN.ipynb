{
 "cells": [
  {
   "cell_type": "code",
   "execution_count": 1,
   "metadata": {},
   "outputs": [
    {
     "name": "stdout",
     "output_type": "stream",
     "text": [
      "curses is not supported on this machine (please install/reinstall curses for an optimal experience)\n",
      "WARNING:tensorflow:From c:\\users\\tyler\\appdata\\local\\programs\\python\\python36\\lib\\site-packages\\tensorflow\\python\\framework\\op_def_library.py:263: colocate_with (from tensorflow.python.framework.ops) is deprecated and will be removed in a future version.\n",
      "Instructions for updating:\n",
      "Colocations handled automatically by placer.\n"
     ]
    }
   ],
   "source": [
    "import ProductionScript as prod\n",
    "import EmailParser as ep"
   ]
  },
  {
   "cell_type": "code",
   "execution_count": 2,
   "metadata": {},
   "outputs": [
    {
     "name": "stdout",
     "output_type": "stream",
     "text": [
      "WARNING:tensorflow:From c:\\users\\tyler\\appdata\\local\\programs\\python\\python36\\lib\\site-packages\\tflearn\\initializations.py:119: UniformUnitScaling.__init__ (from tensorflow.python.ops.init_ops) is deprecated and will be removed in a future version.\n",
      "Instructions for updating:\n",
      "Use tf.initializers.variance_scaling instead with distribution=uniform to get equivalent behavior.\n",
      "WARNING:tensorflow:From c:\\users\\tyler\\appdata\\local\\programs\\python\\python36\\lib\\site-packages\\tflearn\\layers\\core.py:239: calling dropout (from tensorflow.python.ops.nn_ops) with keep_prob is deprecated and will be removed in a future version.\n",
      "Instructions for updating:\n",
      "Please use `rate` instead of `keep_prob`. Rate should be set to `rate = 1 - keep_prob`.\n",
      "WARNING:tensorflow:From c:\\users\\tyler\\appdata\\local\\programs\\python\\python36\\lib\\site-packages\\tflearn\\objectives.py:66: calling reduce_sum_v1 (from tensorflow.python.ops.math_ops) with keep_dims is deprecated and will be removed in a future version.\n",
      "Instructions for updating:\n",
      "keep_dims is deprecated, use keepdims instead\n",
      "WARNING:tensorflow:From c:\\users\\tyler\\appdata\\local\\programs\\python\\python36\\lib\\site-packages\\tensorflow\\python\\ops\\math_ops.py:3066: to_int32 (from tensorflow.python.ops.math_ops) is deprecated and will be removed in a future version.\n",
      "Instructions for updating:\n",
      "Use tf.cast instead.\n",
      "WARNING:tensorflow:From c:\\users\\tyler\\appdata\\local\\programs\\python\\python36\\lib\\site-packages\\tensorflow\\python\\training\\saver.py:1266: checkpoint_exists (from tensorflow.python.training.checkpoint_management) is deprecated and will be removed in a future version.\n",
      "Instructions for updating:\n",
      "Use standard file APIs to check for files with this prefix.\n",
      "INFO:tensorflow:Restoring parameters from C:\\COSC_490_Project_TestEnv\\socialmedia-4_27-0.001-6conv-basic-video.model\n",
      "model loaded!\n"
     ]
    },
    {
     "name": "stderr",
     "output_type": "stream",
     "text": [
      "100%|████████████████████████████████████████████████████████████████████████████████████| 6/6 [00:00<00:00, 30.93it/s]\n",
      "100%|████████████████████████████████████████████████████████████████████████████████████| 6/6 [00:01<00:00,  3.45it/s]\n"
     ]
    }
   ],
   "source": [
    "prod.run()"
   ]
  },
  {
   "cell_type": "code",
   "execution_count": 3,
   "metadata": {},
   "outputs": [
    {
     "name": "stdout",
     "output_type": "stream",
     "text": [
      "\n",
      "log-06_05_2019.csv\n",
      "['1', '0.9983866214752197']\n",
      "Violation\n",
      "['274', '0.022467661648988724']\n",
      "['275', '0.055208537727594376']\n",
      "['2', '0.9958170056343079']\n",
      "Violation\n",
      "['3', '0.9560794830322266']\n",
      "Violation\n",
      "['446', '0.05130601301789284']\n",
      "['1', '0.9983866214752197']\n",
      "Violation\n",
      "['274', '0.022467661648988724']\n",
      "['275', '0.055208537727594376']\n",
      "['2', '0.9958170056343079']\n",
      "Violation\n",
      "['3', '0.9560794830322266']\n",
      "Violation\n",
      "['446', '0.05130601301789284']\n",
      "['1', '0.9983866214752197']\n",
      "Violation\n",
      "['274', '0.022467661648988724']\n",
      "['275', '0.055208537727594376']\n",
      "['2', '0.9958170056343079']\n",
      "Violation\n",
      "['3', '0.9560794830322266']\n",
      "Violation\n",
      "['446', '0.05130601301789284']\n",
      "\n",
      "log-07_05_2019.csv\n",
      "['275', '0.055208537727594376']\n",
      "['23', '0.9958170056343079']\n",
      "Violation\n",
      "['1', '0.9983866214752197']\n",
      "Violation\n",
      "['3', '0.9560794830322266']\n",
      "Violation\n",
      "['446', '0.05130601301789284']\n",
      "['274', '0.022467661648988724']\n",
      "PC/USER- RAZERBLADE:Tyler, Image Path - .\\dataset\\single_image_test\\1\n",
      "PC/USER- RAZERBLADE:Tyler, Image Path - .\\dataset\\single_image_test\\2\n",
      "PC/USER- RAZERBLADE:Tyler, Image Path - .\\dataset\\single_image_test\\3\n",
      "PC/USER- RAZERBLADE:Tyler, Image Path - .\\dataset\\single_image_test\\1\n",
      "PC/USER- RAZERBLADE:Tyler, Image Path - .\\dataset\\single_image_test\\3\n",
      "PC/USER- RAZERBLADE:Tyler, Image Path - .\\dataset\\single_image_test\\2\n",
      "PC/USER- RAZERBLADE:Tyler, Image Path - .\\dataset\\single_image_test\\1\n",
      "PC/USER- RAZERBLADE:Tyler, Image Path - .\\dataset\\single_image_test\\1\n",
      "PC/USER- RAZERBLADE:Tyler, Image Path - .\\dataset\\single_image_test\\3\n",
      "PC/USER- RAZERBLADE:Tyler, Image Path - .\\dataset\\single_image_test\\23\n",
      "PC/USER- RAZERBLADE:Tyler, Image Path - .\\dataset\\single_image_test\\23\n",
      "PC/USER- RAZERBLADE:Tyler, Image Path - .\\dataset\\single_image_test\\1\n",
      "PC/USER- RAZERBLADE:Tyler, Image Path - .\\dataset\\single_image_test\\3\n",
      "\n"
     ]
    }
   ],
   "source": [
    "ep.run()"
   ]
  },
  {
   "cell_type": "code",
   "execution_count": null,
   "metadata": {},
   "outputs": [],
   "source": []
  }
 ],
 "metadata": {
  "kernelspec": {
   "display_name": "Python 3",
   "language": "python",
   "name": "python3"
  },
  "language_info": {
   "codemirror_mode": {
    "name": "ipython",
    "version": 3
   },
   "file_extension": ".py",
   "mimetype": "text/x-python",
   "name": "python",
   "nbconvert_exporter": "python",
   "pygments_lexer": "ipython3",
   "version": "3.6.8"
  }
 },
 "nbformat": 4,
 "nbformat_minor": 2
}
