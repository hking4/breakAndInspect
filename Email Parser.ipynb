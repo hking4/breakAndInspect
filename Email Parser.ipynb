{
 "cells": [
  {
   "cell_type": "code",
   "execution_count": 1,
   "metadata": {},
   "outputs": [
    {
     "name": "stdout",
     "output_type": "stream",
     "text": [
      "\n",
      "log-06_05_2019.csv\n",
      "['1', '0.9983866214752197']\n",
      "Violation\n",
      "['274', '0.022467661648988724']\n",
      "['275', '0.055208537727594376']\n",
      "['2', '0.9958170056343079']\n",
      "Violation\n",
      "['3', '0.9560794830322266']\n",
      "Violation\n",
      "['446', '0.05130601301789284']\n",
      "['1', '0.9983866214752197']\n",
      "Violation\n",
      "['274', '0.022467661648988724']\n",
      "['275', '0.055208537727594376']\n",
      "['2', '0.9958170056343079']\n",
      "Violation\n",
      "['3', '0.9560794830322266']\n",
      "Violation\n",
      "['446', '0.05130601301789284']\n",
      "['1', '0.9983866214752197']\n",
      "Violation\n",
      "['274', '0.022467661648988724']\n",
      "['275', '0.055208537727594376']\n",
      "['2', '0.9958170056343079']\n",
      "Violation\n",
      "['3', '0.9560794830322266']\n",
      "Violation\n",
      "['446', '0.05130601301789284']\n"
     ]
    }
   ],
   "source": [
    "import os\n",
    "import csv\n",
    "import MySQLdb\n",
    "import EmailCreateSend\n",
    "import DatabaseConnection as dbc\n",
    "import LogViolation as l\n",
    "pathName = os.getcwd()\n",
    "index = []   #track image IDs \n",
    "logFiles = []\n",
    "fileNames = os.listdir(pathName)\n",
    "\n",
    "##Load all csv files in directory\n",
    "##Script can scan multiple csv logs \n",
    "for fileNames in fileNames:\n",
    "    if fileNames.endswith(\".csv\"):\n",
    "        logFiles.append(fileNames)\n",
    "        \n",
    "##Loop for each log file\n",
    "for i in logFiles:\n",
    "    file = open(os.path.join(pathName, i), newline='')\n",
    "    reader = csv.reader(file, delimiter=',')\n",
    "    print('\\n'+i)   ##print log file name \n",
    "    \n",
    "    for row in reader:\n",
    "        content = list(row[i] for i in [0,1]) ##[0,1] are included columns from CNN csv logs\n",
    "\n",
    "        print (content)\n",
    "        if float(content[1]) > .5:\n",
    "            print('Violation')  \n",
    "            index.append(content[0])"
   ]
  },
  {
   "cell_type": "code",
   "execution_count": 2,
   "metadata": {},
   "outputs": [],
   "source": [
    "db = dbc.connect()\n",
    "cursor = db.cursor()"
   ]
  },
  {
   "cell_type": "code",
   "execution_count": 3,
   "metadata": {},
   "outputs": [],
   "source": [
    "#query = \"SELECT U.USER_ID, U.FNAME, U.LNAME, SS.SCREENSHOT_PATH FROM USERS U LEFT JOIN SCREENSHOTS SS ON U.USER_ID = SS.SS_USER WHERE SS.SS_ID IN (%s)\" % \",\".join(map(str,index))\n",
    "selectquery = \"SELECT S.SS_USER, S.SCREENSHOT_PATH FROM SCREENSHOTS S WHERE S.image_name IN (%s)\" % \",\".join(map(str,index))\n",
    "cursor.execute(selectquery)\n",
    "results = cursor.fetchall()"
   ]
  },
  {
   "cell_type": "code",
   "execution_count": 4,
   "metadata": {},
   "outputs": [],
   "source": [
    "message = ''\n",
    "#EmailCreateSend.send(results)\n",
    "for row in results:\n",
    "    user = row[0]\n",
    "    path = row[1]\n",
    "    message += 'PC/USER- ' + user + ', Image Path - ' + path + '\\n'\n",
    "    ##LOG TO VIOLATION TABLE\n",
    "    l.log(user, path)"
   ]
  },
  {
   "cell_type": "code",
   "execution_count": 5,
   "metadata": {},
   "outputs": [
    {
     "name": "stdout",
     "output_type": "stream",
     "text": [
      "PC/USER- RAZERBLADE:Tyler, Image Path - .\\dataset\\single_image_test\\1\n",
      "PC/USER- RAZERBLADE:Tyler, Image Path - .\\dataset\\single_image_test\\2\n",
      "PC/USER- RAZERBLADE:Tyler, Image Path - .\\dataset\\single_image_test\\3\n",
      "\n"
     ]
    }
   ],
   "source": [
    "print(message)"
   ]
  },
  {
   "cell_type": "code",
   "execution_count": 6,
   "metadata": {},
   "outputs": [],
   "source": [
    "EmailCreateSend.send(message)"
   ]
  },
  {
   "cell_type": "code",
   "execution_count": null,
   "metadata": {},
   "outputs": [],
   "source": []
  }
 ],
 "metadata": {
  "kernelspec": {
   "display_name": "Python 3",
   "language": "python",
   "name": "python3"
  },
  "language_info": {
   "codemirror_mode": {
    "name": "ipython",
    "version": 3
   },
   "file_extension": ".py",
   "mimetype": "text/x-python",
   "name": "python",
   "nbconvert_exporter": "python",
   "pygments_lexer": "ipython3",
   "version": "3.6.8"
  }
 },
 "nbformat": 4,
 "nbformat_minor": 2
}
