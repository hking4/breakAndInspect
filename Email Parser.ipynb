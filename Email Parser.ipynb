{
 "cells": [
  {
   "cell_type": "code",
   "execution_count": 1,
   "metadata": {},
   "outputs": [
    {
     "name": "stdout",
     "output_type": "stream",
     "text": [
      "\n",
      "log-03_06_2019.csv\n",
      "['1', '0.9']\n",
      "Violation\n",
      "['2', '0.64']\n",
      "Violation\n",
      "['3', '0']\n",
      "['4', '0.051306013']\n",
      "['5', '0']\n",
      "['6', '0.022467662']\n"
     ]
    }
   ],
   "source": [
    "import os\n",
    "import csv\n",
    "import MySQLdb\n",
    "import EmailCreateSend\n",
    "import DatabaseConnection as dbc\n",
    "import LogViolation as l\n",
    "pathName = os.getcwd()\n",
    "index = []   #track image IDs \n",
    "logFiles = []\n",
    "fileNames = os.listdir(pathName)\n",
    "\n",
    "##Load all csv files in directory\n",
    "##Script can scan multiple csv logs \n",
    "for fileNames in fileNames:\n",
    "    if fileNames.endswith(\".csv\"):\n",
    "        logFiles.append(fileNames)\n",
    "        \n",
    "##Loop for each log file\n",
    "for i in logFiles:\n",
    "    file = open(os.path.join(pathName, i), newline='')\n",
    "    reader = csv.reader(file, delimiter=',')\n",
    "    print('\\n'+i)   ##print log file name \n",
    "    \n",
    "    for row in reader:\n",
    "        content = list(row[i] for i in [0,1]) ##[0,1] are included columns from CNN csv logs\n",
    "\n",
    "        print (content)\n",
    "        if float(content[1]) > .5:\n",
    "            print('Violation')  \n",
    "            index.append(content[0])"
   ]
  },
  {
   "cell_type": "code",
   "execution_count": 2,
   "metadata": {},
   "outputs": [],
   "source": [
    "db = dbc.connect()\n",
    "cursor = db.cursor()"
   ]
  },
  {
   "cell_type": "code",
   "execution_count": 3,
   "metadata": {},
   "outputs": [],
   "source": [
    "query = \"SELECT U.USER_ID, U.FNAME, U.LNAME, SS.SCREENSHOT_PATH, SS.URL FROM USERS U LEFT JOIN SCREENSHOTS SS ON U.USER_ID = SS.SS_USER WHERE SS.SS_ID IN (%s)\" % \",\".join(map(str,index))\n",
    "cursor.execute(query)\n",
    "results = cursor.fetchall()"
   ]
  },
  {
   "cell_type": "code",
   "execution_count": 4,
   "metadata": {},
   "outputs": [],
   "source": [
    "message = ''\n",
    "#EmailCreateSend.send(results)\n",
    "for row in results:\n",
    "    eid = row[0]\n",
    "    fname = row[1]\n",
    "    lname = row[2]\n",
    "    ss = row[3]\n",
    "    url = row[4]\n",
    "    message += 'EMPLOYEE ID: ' + eid + ', NAME: ' + fname + ' ' + lname + ', URL: ' + url + '\\n'\n",
    "    ##LOG TO VIOLATION TABLE\n",
    "    l.log(eid, url, ss)"
   ]
  },
  {
   "cell_type": "code",
   "execution_count": 5,
   "metadata": {},
   "outputs": [
    {
     "name": "stdout",
     "output_type": "stream",
     "text": [
      "EMPLOYEE ID: 1, NAME: Test User, URL: www.cnn.com\n",
      "EMPLOYEE ID: 2, NAME: Tyler Dugan, URL: www.cnn.com\n",
      "\n"
     ]
    }
   ],
   "source": [
    "print(message)"
   ]
  },
  {
   "cell_type": "code",
   "execution_count": 6,
   "metadata": {},
   "outputs": [],
   "source": [
    "EmailCreateSend.send(message)"
   ]
  },
  {
   "cell_type": "code",
   "execution_count": null,
   "metadata": {},
   "outputs": [],
   "source": []
  }
 ],
 "metadata": {
  "kernelspec": {
   "display_name": "Python 3",
   "language": "python",
   "name": "python3"
  },
  "language_info": {
   "codemirror_mode": {
    "name": "ipython",
    "version": 3
   },
   "file_extension": ".py",
   "mimetype": "text/x-python",
   "name": "python",
   "nbconvert_exporter": "python",
   "pygments_lexer": "ipython3",
   "version": "3.6.8"
  }
 },
 "nbformat": 4,
 "nbformat_minor": 2
}
