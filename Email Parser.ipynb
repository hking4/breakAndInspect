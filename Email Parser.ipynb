{
 "cells": [
  {
   "cell_type": "code",
   "execution_count": 30,
   "metadata": {},
   "outputs": [
    {
     "name": "stdout",
     "output_type": "stream",
     "text": [
      "\n",
      "log-03_06_2019.csv\n",
      "['1', '0.9']\n",
      "Violation\n",
      "['1']\n",
      "['2', '0.9']\n",
      "Violation\n",
      "['1', '2']\n",
      "['3', '0']\n",
      "['4', '0.051306013']\n",
      "['5', '0']\n",
      "['6', '0.022467662']\n"
     ]
    }
   ],
   "source": [
    "import os\n",
    "import csv\n",
    "import MySQLdb\n",
    "import EmailCreateSend\n",
    "pathName = os.getcwd()\n",
    "index = []   #track image IDs \n",
    "logFiles = []\n",
    "fileNames = os.listdir(pathName)\n",
    "\n",
    "##Load all csv files in directory\n",
    "##Script can scan multiple csv logs \n",
    "for fileNames in fileNames:\n",
    "    if fileNames.endswith(\".csv\"):\n",
    "        logFiles.append(fileNames)\n",
    "        \n",
    "##Loop for each log file\n",
    "for i in logFiles:\n",
    "    file = open(os.path.join(pathName, i), newline='')\n",
    "    reader = csv.reader(file, delimiter=',')\n",
    "    print('\\n'+i)   ##print log file name \n",
    "    \n",
    "    for row in reader:\n",
    "        content = list(row[i] for i in [0,1]) ##[0,1] are included columns from CNN csv logs\n",
    "\n",
    "        print (content)\n",
    "        if float(content[1]) > .5:\n",
    "            print('Violation')  \n",
    "            index.append(content[0])\n",
    "            print(index)"
   ]
  },
  {
   "cell_type": "code",
   "execution_count": 31,
   "metadata": {},
   "outputs": [],
   "source": [
    "db = MySQLdb.connect('remotemysql.com', '5i48ibmWpC', 'Wk4CcxeIyW', '5i48ibmWpC')\n",
    "cursor = db.cursor()"
   ]
  },
  {
   "cell_type": "code",
   "execution_count": 32,
   "metadata": {},
   "outputs": [],
   "source": [
    "## TODO: Grab info from database and add to email\n",
    "#query = \"SELECT U.USER_ID, U.FNAME, U.LNAME, SS.SCREENSHOT_PATH, SS.URL FROM USERS U JOIN SCREENSHOTS SS ON U.USER_ID = SS.SS_USER WHERE SS.SS_ID={}\".format(index[0]) \n",
    "query = \"SELECT U.USER_ID, U.FNAME, U.LNAME, SS.SCREENSHOT_PATH, SS.URL FROM USERS U JOIN SCREENSHOTS SS ON U.USER_ID = SS.SS_USER WHERE SS.SS_ID IN (%s)\" % \",\".join(map(str,index))\n",
    "cursor.execute(query)\n",
    "results = cursor.fetchall()"
   ]
  },
  {
   "cell_type": "code",
   "execution_count": 33,
   "metadata": {},
   "outputs": [],
   "source": [
    "EmailCreateSend.send(results)"
   ]
  },
  {
   "cell_type": "code",
   "execution_count": null,
   "metadata": {},
   "outputs": [],
   "source": []
  }
 ],
 "metadata": {
  "kernelspec": {
   "display_name": "Python 3",
   "language": "python",
   "name": "python3"
  },
  "language_info": {
   "codemirror_mode": {
    "name": "ipython",
    "version": 3
   },
   "file_extension": ".py",
   "mimetype": "text/x-python",
   "name": "python",
   "nbconvert_exporter": "python",
   "pygments_lexer": "ipython3",
   "version": "3.6.8"
  }
 },
 "nbformat": 4,
 "nbformat_minor": 2
}
