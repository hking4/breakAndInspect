{
 "cells": [
  {
   "cell_type": "code",
   "execution_count": 12,
   "metadata": {},
   "outputs": [
    {
     "name": "stdout",
     "output_type": "stream",
     "text": [
      "\n",
      "log-03_05_2019.csv\n",
      "['1', '0.998386621']\n",
      "Violation\n",
      "['275', '0.055208538']\n",
      "['3', '0.956079483']\n",
      "Violation\n",
      "['446', '0.051306013']\n",
      "['2', '0.995817006']\n",
      "Violation\n",
      "['274', '0.022467662']\n",
      "\n",
      "log-03_06_2019.csv\n",
      "['1000', '0.998386621']\n",
      "Violation\n",
      "['1001', '0.055208538']\n",
      "['1002', '0.956079483']\n",
      "Violation\n",
      "['1003', '0.051306013']\n",
      "['1004', '0.995817006']\n",
      "Violation\n",
      "['1005', '0.022467662']\n"
     ]
    }
   ],
   "source": [
    "import os\n",
    "import csv\n",
    "pathName = os.getcwd()\n",
    "\n",
    "logFiles = []\n",
    "fileNames = os.listdir(pathName)\n",
    "\n",
    "##Load all csv files in directory\n",
    "##Script can scan multiple csv logs \n",
    "for fileNames in fileNames:\n",
    "    if fileNames.endswith(\".csv\"):\n",
    "        logFiles.append(fileNames)\n",
    "        \n",
    "##Loop for each log file\n",
    "for i in logFiles:\n",
    "    file = open(os.path.join(pathName, i), newline='')\n",
    "    reader = csv.reader(file, delimiter=',')\n",
    "    print('\\n'+i)   ##print log file name \n",
    "    \n",
    "    for row in reader:\n",
    "        content = list(row[i] for i in [0,1]) ##[0,1] are included columns from CNN csv logs\n",
    "\n",
    "        print (content)\n",
    "        if float(content[1]) > .5:\n",
    "            print('Violation')\n",
    "            ## TODO: Grab info from database and add to email"
   ]
  },
  {
   "cell_type": "code",
   "execution_count": null,
   "metadata": {},
   "outputs": [],
   "source": []
  },
  {
   "cell_type": "code",
   "execution_count": null,
   "metadata": {},
   "outputs": [],
   "source": []
  }
 ],
 "metadata": {
  "kernelspec": {
   "display_name": "Python 3",
   "language": "python",
   "name": "python3"
  },
  "language_info": {
   "codemirror_mode": {
    "name": "ipython",
    "version": 3
   },
   "file_extension": ".py",
   "mimetype": "text/x-python",
   "name": "python",
   "nbconvert_exporter": "python",
   "pygments_lexer": "ipython3",
   "version": "3.6.8"
  }
 },
 "nbformat": 4,
 "nbformat_minor": 2
}
